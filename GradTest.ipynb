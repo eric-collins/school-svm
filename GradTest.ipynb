{
 "cells": [
  {
   "cell_type": "code",
   "execution_count": 45,
   "metadata": {},
   "outputs": [
    {
     "data": {
      "text/html": [
       "<div>\n",
       "<style scoped>\n",
       "    .dataframe tbody tr th:only-of-type {\n",
       "        vertical-align: middle;\n",
       "    }\n",
       "\n",
       "    .dataframe tbody tr th {\n",
       "        vertical-align: top;\n",
       "    }\n",
       "\n",
       "    .dataframe thead th {\n",
       "        text-align: right;\n",
       "    }\n",
       "</style>\n",
       "<table border=\"1\" class=\"dataframe\">\n",
       "  <thead>\n",
       "    <tr style=\"text-align: right;\">\n",
       "      <th></th>\n",
       "      <th>schoolname</th>\n",
       "      <th>race</th>\n",
       "      <th>schoolyear</th>\n",
       "      <th>graduated</th>\n",
       "    </tr>\n",
       "    <tr>\n",
       "      <th>studentid</th>\n",
       "      <th></th>\n",
       "      <th></th>\n",
       "      <th></th>\n",
       "      <th></th>\n",
       "    </tr>\n",
       "  </thead>\n",
       "  <tbody>\n",
       "    <tr>\n",
       "      <th>39001</th>\n",
       "      <td>1</td>\n",
       "      <td>6</td>\n",
       "      <td>2018</td>\n",
       "      <td>1</td>\n",
       "    </tr>\n",
       "    <tr>\n",
       "      <th>218116</th>\n",
       "      <td>2</td>\n",
       "      <td>6</td>\n",
       "      <td>2017</td>\n",
       "      <td>1</td>\n",
       "    </tr>\n",
       "    <tr>\n",
       "      <th>219577</th>\n",
       "      <td>2</td>\n",
       "      <td>6</td>\n",
       "      <td>2019</td>\n",
       "      <td>1</td>\n",
       "    </tr>\n",
       "    <tr>\n",
       "      <th>246829</th>\n",
       "      <td>1</td>\n",
       "      <td>6</td>\n",
       "      <td>2019</td>\n",
       "      <td>1</td>\n",
       "    </tr>\n",
       "    <tr>\n",
       "      <th>340212</th>\n",
       "      <td>3</td>\n",
       "      <td>6</td>\n",
       "      <td>2019</td>\n",
       "      <td>0</td>\n",
       "    </tr>\n",
       "  </tbody>\n",
       "</table>\n",
       "</div>"
      ],
      "text/plain": [
       "           schoolname  race  schoolyear  graduated\n",
       "studentid                                         \n",
       "39001               1     6        2018          1\n",
       "218116              2     6        2017          1\n",
       "219577              2     6        2019          1\n",
       "246829              1     6        2019          1\n",
       "340212              3     6        2019          0"
      ]
     },
     "execution_count": 45,
     "metadata": {},
     "output_type": "execute_result"
    }
   ],
   "source": [
    "import pandas as pd\n",
    "import sklearn\n",
    "from sklearn import svm\n",
    "\n",
    "#Inside pd.read_excel, input your directory to the Grad Test.xlsx\n",
    "\n",
    "df = pd.read_excel(#)\n",
    "df = df.set_index('studentid')\n",
    "\n",
    "#We must replace the string in the 'race' column. The replacement integer is arbitrary. \n",
    "#We must replace the string in the 'schoolname' column. The replacement in arbitrary. \n",
    "\n",
    "race_dict = {'A': 1, 'H': 2, 'M': 3, 'P': 4, 'B': 5, 'W': 6, 'I':7}\n",
    "school_dict = {'Spruce Creek High' : 1, 'University High' : 2, 'Atlantic High' : 3,\n",
    "       'New Smyrna Beach High' : 4, 'Deltona High' : 5, 'Pine Ridge High' : 6,\n",
    "       'Mainland High' : 7, 'T. D. Taylor Middle-High' : 8, 'Deland High' : 9,\n",
    "       'Seabreeze High': 10}\n",
    "df['race'] = df['race'].map(race_dict)\n",
    "df['schoolname'] = df['schoolname'].map(school_dict)"
   ]
  },
  {
   "cell_type": "code",
   "execution_count": 59,
   "metadata": {},
   "outputs": [],
   "source": [
    "X = df.drop('graduated', axis = 1).values\n",
    "y = df['graduated'].values\n",
    "\n",
    "test_size = 10000\n",
    "\n",
    "X_train = X[:-test_size]\n",
    "y_train = y[:-test_size]\n",
    "\n",
    "\n",
    "X_test= X[-test_size:]\n",
    "y_test = y[-test_size:]\n"
   ]
  },
  {
   "cell_type": "code",
   "execution_count": 60,
   "metadata": {},
   "outputs": [
    {
     "name": "stdout",
     "output_type": "stream",
     "text": [
      "0.6839\n"
     ]
    }
   ],
   "source": [
    "clf = svm.SVC()\n",
    "\n",
    "clf.fit(X_train, y_train)\n",
    "\n",
    "print(clf.score(X_test, y_test))\n"
   ]
  },
  {
   "cell_type": "code",
   "execution_count": null,
   "metadata": {},
   "outputs": [],
   "source": []
  }
 ],
 "metadata": {
  "kernelspec": {
   "display_name": "Python 3",
   "language": "python",
   "name": "python3"
  },
  "language_info": {
   "codemirror_mode": {
    "name": "ipython",
    "version": 3
   },
   "file_extension": ".py",
   "mimetype": "text/x-python",
   "name": "python",
   "nbconvert_exporter": "python",
   "pygments_lexer": "ipython3",
   "version": "3.8.5"
  }
 },
 "nbformat": 4,
 "nbformat_minor": 4
}
